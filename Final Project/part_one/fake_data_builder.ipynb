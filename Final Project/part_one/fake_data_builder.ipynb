{
 "cells": [
  {
   "cell_type": "code",
   "execution_count": 12,
   "metadata": {},
   "outputs": [],
   "source": [
    "# fake_data_builder\n",
    "# imports\n",
    "import matplotlib.pyplot as plt\n",
    "import numpy as np\n",
    "import pandas as pd\n",
    "import random\n",
    "import scipy.stats as stats"
   ]
  },
  {
   "cell_type": "markdown",
   "metadata": {},
   "source": [
    "# **Final Project**\n",
    "Marquette Jones <br>\n",
    "12/13/2023"
   ]
  },
  {
   "cell_type": "markdown",
   "metadata": {},
   "source": [
    "### Part One:"
   ]
  },
  {
   "cell_type": "code",
   "execution_count": 13,
   "metadata": {},
   "outputs": [],
   "source": [
    "# Create dataframe\n",
    "df = pd.DataFrame()"
   ]
  },
  {
   "cell_type": "code",
   "execution_count": 14,
   "metadata": {},
   "outputs": [],
   "source": [
    "# Functions\n",
    "def feature_three(group, feature_1, feature_2):\n",
    "    match group:\n",
    "        case 'A':\n",
    "            return (3*(feature_1)-5*(feature_2))\n",
    "        case 'B':\n",
    "            return (2*(feature_1))\n",
    "        case 'C':\n",
    "            return (-(feature_1)+(feature_2))\n",
    "        case default:\n",
    "            return \"There was a problem\""
   ]
  },
  {
   "cell_type": "code",
   "execution_count": 15,
   "metadata": {},
   "outputs": [],
   "source": [
    "# Generate data\n",
    "id_list = []\n",
    "grp_list = []\n",
    "feature_1_list = []\n",
    "feature_2_list = []\n",
    "feature_3_list = []\n",
    "for i in range(800):\n",
    "    id = \"ID\"\n",
    "    num = str((f'{i:03}'))\n",
    "    id_num = id+num\n",
    "    id_list.append(id_num)\n",
    "\n",
    "    grp_letter = ['A', 'B', 'C']\n",
    "    rand_letter = random.choices(grp_letter, weights=(33.3, 33.3, 33.3), k=1)\n",
    "    group = rand_letter[0]\n",
    "    grp_list.append(group)\n",
    "\n",
    "    feature_1_mu = 2500\n",
    "    feature_1 = np.random.normal(feature_1_mu, 300, 1)\n",
    "    feature_1 = int(feature_1[0])  #to prevent warning\n",
    "    feature_1_list.append(feature_1)\n",
    "\n",
    "    feature_2_mu = 400\n",
    "    feature_2 = np.random.normal(feature_2_mu, 15, 1)\n",
    "    feature_2 = int(feature_2[0])  #to prevent warning\n",
    "    feature_2_list.append(feature_2)\n",
    "\n",
    "    feature_3 = feature_three(group=group, feature_1=feature_1, feature_2=feature_2)\n",
    "    feature_3_list.append(feature_3)\n",
    "\n",
    "# Add the columns to the Dataframe\n",
    "df[\"ID\"] = id_list\n",
    "df[\"Group\"] = grp_list\n",
    "df[\"Feature_1\"] = feature_1_list\n",
    "df[\"Feature_2\"] = feature_2_list\n",
    "df[\"Feature_3\"] = feature_3_list"
   ]
  },
  {
   "cell_type": "code",
   "execution_count": 16,
   "metadata": {},
   "outputs": [
    {
     "name": "stdout",
     "output_type": "stream",
     "text": [
      "        ID Group  Feature_1  Feature_2  Feature_3\n",
      "0    ID000     A       2824        366       6642\n",
      "1    ID001     B       2228        425       4456\n",
      "2    ID002     C       2241        400      -1841\n",
      "3    ID003     B       2203        398       4406\n",
      "4    ID004     B       2430        398       4860\n",
      "..     ...   ...        ...        ...        ...\n",
      "795  ID795     A       2840        410       6470\n",
      "796  ID796     C       2866        378      -2488\n",
      "797  ID797     C       2273        395      -1878\n",
      "798  ID798     B       2239        377       4478\n",
      "799  ID799     A       2402        411       5151\n",
      "\n",
      "[800 rows x 5 columns]\n"
     ]
    }
   ],
   "source": [
    "print(df)"
   ]
  },
  {
   "cell_type": "markdown",
   "metadata": {},
   "source": [
    "a. Based on the theoretical distribution of Feature_1, how many samples do you expect to find where the value of the feature is greater than 3000?"
   ]
  },
  {
   "cell_type": "code",
   "execution_count": 17,
   "metadata": {},
   "outputs": [
    {
     "name": "stdout",
     "output_type": "stream",
     "text": [
      "38\n"
     ]
    }
   ],
   "source": [
    "# We can find the CDF using X= 3000, mean = 2500, and std = 300.  Subtract it from one and it will give the probability of getting a value greater than 3000. Multiply by 800 to get the number.\n",
    "cdf = round(stats.norm.cdf(3000, loc=2500, scale=300), 4)\n",
    "prob_higher_than_3000 = 1-cdf\n",
    "num_higher_3000 = int(800*(prob_higher_than_3000))\n",
    "print(num_higher_3000)"
   ]
  },
  {
   "cell_type": "markdown",
   "metadata": {},
   "source": [
    "b. How many samples did you actually find where Feature_1 is greater than 3000?"
   ]
  },
  {
   "cell_type": "code",
   "execution_count": 18,
   "metadata": {},
   "outputs": [
    {
     "name": "stdout",
     "output_type": "stream",
     "text": [
      "The number of sample/s that were over value 3000: 42\n"
     ]
    }
   ],
   "source": [
    "count = 0\n",
    "for i in feature_1_list:\n",
    "    if i > 3000:\n",
    "        count = count + 1\n",
    "\n",
    "print(\"The number of sample/s that were over value 3000: \" + str(count))"
   ]
  },
  {
   "cell_type": "markdown",
   "metadata": {},
   "source": [
    "c. Group the dataset by the Group field and compute the mean and standard deviation of Feature_3 within each group."
   ]
  },
  {
   "cell_type": "code",
   "execution_count": 19,
   "metadata": {},
   "outputs": [
    {
     "name": "stdout",
     "output_type": "stream",
     "text": [
      "Group\n",
      "A    5457.412017\n",
      "B    5021.556314\n",
      "C   -2102.197080\n",
      "Name: Feature_3, dtype: float64\n",
      "Group\n",
      "A    924.108010\n",
      "B    650.129793\n",
      "C    301.217465\n",
      "Name: Feature_3, dtype: float64\n",
      "\n",
      "The mean of Group A values is: 5457.412017167382\n",
      "The mean of Group B values is: 5021.556313993174\n",
      "The mean of Group C values is: -2102.197080291971\n",
      "\n",
      "The std of Group A values is: 924.1080099170747\n",
      "The std of Group B values is: 650.1297929444843\n",
      "The std of Group C values is: 301.217464661472\n"
     ]
    }
   ],
   "source": [
    "df_grouped = df.set_index('Group').sort_index()  # This puts all the As, Bs, and Cs together respectively based on Group - I wasn't sure if that is what you wanted\n",
    "\n",
    "group_by_feat_3_mean = df.groupby('Group').Feature_3.mean()\n",
    "print(group_by_feat_3_mean)\n",
    "group_A_mean = df[df.Group=='A'].Feature_3.mean()\n",
    "group_B_mean = df[df.Group=='B'].Feature_3.mean()\n",
    "group_C_mean = df[df.Group=='C'].Feature_3.mean()\n",
    "\n",
    "group_by_feat_3_std = df.groupby('Group').Feature_3.std()\n",
    "print(group_by_feat_3_std)\n",
    "group_A_std = df[df.Group=='A'].Feature_3.std()\n",
    "group_B_std = df[df.Group=='B'].Feature_3.std()\n",
    "group_C_std = df[df.Group=='C'].Feature_3.std()\n",
    "\n",
    "print(\"\\nThe mean of Group A values is: \" + str(group_A_mean))\n",
    "print(\"The mean of Group B values is: \" + str(group_B_mean))\n",
    "print(\"The mean of Group C values is: \" + str(group_C_mean) + \"\\n\")\n",
    "print(\"The std of Group A values is: \" + str(group_A_std))\n",
    "print(\"The std of Group B values is: \" + str(group_B_std))\n",
    "print(\"The std of Group C values is: \" + str(group_C_std))"
   ]
  },
  {
   "cell_type": "markdown",
   "metadata": {},
   "source": [
    "Make a scatterplot of Feature_3 vs Feature_1."
   ]
  },
  {
   "cell_type": "code",
   "execution_count": 20,
   "metadata": {},
   "outputs": [
    {
     "data": {
      "text/plain": [
       "<matplotlib.collections.PathCollection at 0x1ddf70c4890>"
      ]
     },
     "execution_count": 20,
     "metadata": {},
     "output_type": "execute_result"
    },
    {
     "data": {
      "image/png": "[encoded data removed]",
      "text/plain": [
       "<Figure size 640x480 with 1 Axes>"
      ]
     },
     "metadata": {},
     "output_type": "display_data"
    }
   ],
   "source": [
    "plt.scatter(df['Feature_3'], df['Feature_1'])"
   ]
  },
  {
   "cell_type": "markdown",
   "metadata": {},
   "source": [
    "Write your constructed dataframe/tibble to a csv file called fake_data.csv"
   ]
  },
  {
   "cell_type": "code",
   "execution_count": 21,
   "metadata": {},
   "outputs": [],
   "source": [
    "df.to_csv('fake_data.csv')"
   ]
  }
 ],
 "metadata": {
  "kernelspec": {
   "display_name": "Python 3",
   "language": "python",
   "name": "python3"
  },
  "language_info": {
   "codemirror_mode": {
    "name": "ipython",
    "version": 3
   },
   "file_extension": ".py",
   "mimetype": "text/x-python",
   "name": "python",
   "nbconvert_exporter": "python",
   "pygments_lexer": "ipython3",
   "version": "3.11.5"
  }
 },
 "nbformat": 4,
 "nbformat_minor": 2
}
